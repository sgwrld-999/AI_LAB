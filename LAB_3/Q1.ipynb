{
 "cells": [
  {
   "cell_type": "markdown",
   "id": "5850945b",
   "metadata": {},
   "source": [
    "# PART 1 : PANDAS "
   ]
  },
  {
   "cell_type": "markdown",
   "id": "bda5b4e7",
   "metadata": {},
   "source": [
    "Q1 : Create a DataFrame df with columns ‘Std_Name’, ‘Roll_no’, and ‘CPI’. Write a code to\n",
    "create a new DataFrame containing only rows where the value in column ‘CPI’ is greater than\n",
    "60. Also calculate the overall mean, median, and standard deviation."
   ]
  },
  {
   "cell_type": "code",
   "execution_count": 2,
   "id": "82302b27",
   "metadata": {},
   "outputs": [
    {
     "name": "stdout",
     "output_type": "stream",
     "text": [
      "  Std_Name  Roll_no  CPI\n",
      "0     Alex        1   65\n",
      "2   Claire        3   75\n",
      "65.0 65.0 10.0\n"
     ]
    }
   ],
   "source": [
    "import pandas as pd\n",
    "\n",
    "df = pd.DataFrame({'Std_Name': ['Alex', 'Bob', 'Claire'], \n",
    "                   'Roll_no': [1, 2, 3], \n",
    "                   'CPI': [65, 55, 75]})\n",
    "\n",
    "new_df = df[df['CPI'] > 60]\n",
    "\n",
    "mean = df['CPI'].mean() \n",
    "median = df['CPI'].median()\n",
    "std = df['CPI'].std()\n",
    "\n",
    "print(new_df)\n",
    "print(mean, median, std)"
   ]
  },
  {
   "cell_type": "raw",
   "id": "ff8410f2",
   "metadata": {},
   "source": [
    "Q2 : Suppose you have a DataFrame ‘IIIT_Library’ with columns ‘Subjects’, ‘Book_Authors’,\n",
    "and ‘No_of_Books’. Write a code to calculate the total number of books for each subject\n",
    "across all Book authors."
   ]
  },
  {
   "cell_type": "code",
   "execution_count": 79,
   "id": "bbfcb799",
   "metadata": {},
   "outputs": [
    {
     "name": "stdout",
     "output_type": "stream",
     "text": [
      "Subjects\n",
      "Chemistry    2\n",
      "Math         9\n",
      "Physics      8\n",
      "Name: No_of_Books, dtype: int64\n"
     ]
    }
   ],
   "source": [
    "df = pd.DataFrame({'Subjects': ['Math', 'Physics', 'Chemistry', 'Math', 'Physics'],  \n",
    "                   'Book_Authors': ['Author1', 'Author2', 'Author3', 'Author4', 'Author5'],\n",
    "                   'No_of_Books': [5, 3, 2, 4, 5]})\n",
    "                   \n",
    "subject_counts = df.groupby('Subjects')['No_of_Books'].sum()\n",
    "\n",
    "print(subject_counts)"
   ]
  },
  {
   "cell_type": "raw",
   "id": "2cbb3060",
   "metadata": {},
   "source": [
    "Q3 : Write a Python program to read an image and save the image as a matrix to a .csv file using\n",
    "Pandas. Then import Excel data from the .csv file excluding the last row and last column."
   ]
  },
  {
   "cell_type": "code",
   "execution_count": null,
   "id": "0eb34a2a",
   "metadata": {},
   "outputs": [],
   "source": []
  },
  {
   "cell_type": "raw",
   "id": "da98575d",
   "metadata": {},
   "source": [
    "Q4 : Suppose you have a DataFrame dirty_data with columns ‘Name’, ‘Age’, ‘Salary”. Write a\n",
    "code to remove rows where the ‘Age’ column is less than 18 or the ‘Salary’ column is\n",
    "negative."
   ]
  },
  {
   "cell_type": "code",
   "execution_count": 3,
   "id": "75c7a3bc",
   "metadata": {},
   "outputs": [
    {
     "name": "stdout",
     "output_type": "stream",
     "text": [
      "     Name  Age  Salary\n",
      "1     Bob   21    2000\n",
      "2  Claire   33    3000\n",
      "3     Dan   41    4000\n"
     ]
    }
   ],
   "source": [
    "df = pd.DataFrame({'Name': ['Alice', 'Bob', 'Claire', 'Dan'],\n",
    "                   'Age': [17, 21, 33, 41],  \n",
    "                   'Salary': [-1000, 2000, 3000, 4000]})\n",
    "                   \n",
    "df = df[(df['Age']>=18) & (df['Salary']>=0)]\n",
    "\n",
    "print(df)"
   ]
  },
  {
   "cell_type": "raw",
   "id": "69ebd69b",
   "metadata": {},
   "source": [
    "Q5 : Given a DataFrame time_df with column ‘TimeStamp’ in DateTime format, write a code to\n",
    "create a new column ‘Hour’ containing the hour component of each timestamp."
   ]
  },
  {
   "cell_type": "code",
   "execution_count": 4,
   "id": "7acdab70",
   "metadata": {},
   "outputs": [
    {
     "name": "stdout",
     "output_type": "stream",
     "text": [
      "            TimeStamp  Hour\n",
      "0 2023-02-01 14:35:00    14\n",
      "1 2023-02-03 06:15:30     6\n",
      "2 2023-02-05 23:48:45    23\n"
     ]
    }
   ],
   "source": [
    "time_df = pd.DataFrame({'TimeStamp': ['2023-02-01 14:35:00', \n",
    "                                      '2023-02-03 06:15:30',\n",
    "                                      '2023-02-05 23:48:45']})\n",
    "\n",
    "time_df['TimeStamp'] = pd.to_datetime(time_df['TimeStamp'])  \n",
    "time_df['Hour'] = time_df['TimeStamp'].dt.hour\n",
    "\n",
    "print(time_df)"
   ]
  },
  {
   "cell_type": "markdown",
   "id": "ecc67636",
   "metadata": {},
   "source": [
    "# NumPy application "
   ]
  },
  {
   "cell_type": "raw",
   "id": "44331050",
   "metadata": {},
   "source": [
    "Q1 "
   ]
  },
  {
   "cell_type": "code",
   "execution_count": 2,
   "id": "8134e69c",
   "metadata": {},
   "outputs": [],
   "source": [
    "import numpy as np \n",
    "import time"
   ]
  },
  {
   "cell_type": "code",
   "execution_count": 82,
   "id": "7964c7b3",
   "metadata": {},
   "outputs": [],
   "source": [
    "arr_1 = np.random.rand(106, 104)\n",
    "arr_2 = np.random.rand(106, 104)\n",
    "\n",
    "arr_temp = arr_2.T \n",
    "\n",
    "# Using Loops \n",
    "start = time.time()\n",
    "result_loop = np.zeros((106, 106))\n",
    "for i in range(len(arr_1)):\n",
    "    for j in range(len(arr_temp)):\n",
    "        for k in range(len(arr_2[0])):\n",
    "            result_loop[i][j] += arr_1[i][k] * arr_temp[k][j] \n",
    "end = time.time()\n",
    "t1 = end - start"
   ]
  },
  {
   "cell_type": "code",
   "execution_count": 83,
   "id": "042af64e",
   "metadata": {},
   "outputs": [],
   "source": [
    "# Vectorized \n",
    "start = time.time()\n",
    "result_vectorized = np.dot(arr_1, arr_2.T)  \n",
    "end = time.time()\n",
    "t2 = end - start\n",
    "\n",
    "speedup = t1 / t2"
   ]
  },
  {
   "cell_type": "code",
   "execution_count": 84,
   "id": "5c6d9da7",
   "metadata": {},
   "outputs": [
    {
     "name": "stdout",
     "output_type": "stream",
     "text": [
      "Time using loops: 0.4839138984680176\n",
      "Time using vectorized operation: 0.026470184326171875\n",
      "Speed up: 18.28147067300764\n"
     ]
    }
   ],
   "source": [
    "print(\"Time using loops:\", t1)\n",
    "print(\"Time using vectorized operation:\", t2)\n",
    "print(\"Speed up:\", speedup)"
   ]
  },
  {
   "cell_type": "raw",
   "id": "4024d21e",
   "metadata": {},
   "source": [
    "Q2 : Given a 2D NumPy array “arr”, extract the second column and the last row."
   ]
  },
  {
   "cell_type": "code",
   "execution_count": 85,
   "id": "67931ac4",
   "metadata": {
    "scrolled": true
   },
   "outputs": [
    {
     "name": "stdout",
     "output_type": "stream",
     "text": [
      "[[ 0  1  2  3  4  5]\n",
      " [ 6  7  8  9 10 11]\n",
      " [12 13 14 15 16 17]\n",
      " [18 19 20 21 22 23]\n",
      " [24 25 26 27 28 29]]\n"
     ]
    }
   ],
   "source": [
    "arr1 = np.arange(30).reshape(5,6)\n",
    "print(arr1)"
   ]
  },
  {
   "cell_type": "code",
   "execution_count": 86,
   "id": "c82a7b56",
   "metadata": {},
   "outputs": [
    {
     "name": "stdout",
     "output_type": "stream",
     "text": [
      "[ 1  7 13 19 25]\n",
      "[[24 25 26 27 28 29]]\n"
     ]
    }
   ],
   "source": [
    "second_col = arr1[:,1]\n",
    "last_row  =arr1[-1:]\n",
    "\n",
    "print(second_col)\n",
    "print(last_row)"
   ]
  },
  {
   "cell_type": "raw",
   "id": "0e7d0311",
   "metadata": {},
   "source": [
    "Q3 : From a 2D array of 5*6, find the frequency of repeated numbers in the array."
   ]
  },
  {
   "cell_type": "code",
   "execution_count": 42,
   "id": "e07904ac",
   "metadata": {},
   "outputs": [
    {
     "name": "stdout",
     "output_type": "stream",
     "text": [
      "[[0 4 1 8 1 9]\n",
      " [3 5 2 3 9 3]\n",
      " [8 7 5 6 0 7]\n",
      " [8 2 0 7 6 6]\n",
      " [6 5 6 0 1 8]]\n"
     ]
    }
   ],
   "source": [
    "arr_Q3 = np.random.randint(0,10,size=(5,6))\n",
    "print(arr_Q3)"
   ]
  },
  {
   "cell_type": "code",
   "execution_count": 75,
   "id": "3af5c733",
   "metadata": {},
   "outputs": [],
   "source": [
    "flattened_array = arr_Q3.flatten()\n",
    "unique_ele, counts = np.unique(flattened_array,return_counts=True)"
   ]
  },
  {
   "cell_type": "code",
   "execution_count": 70,
   "id": "01912f31",
   "metadata": {},
   "outputs": [
    {
     "name": "stdout",
     "output_type": "stream",
     "text": [
      "{0: 4, 1: 3, 2: 2, 3: 3, 4: 1, 5: 3, 6: 5, 7: 3, 8: 4, 9: 2}\n"
     ]
    }
   ],
   "source": [
    "resultant_freq = dict(zip(unique_ele,counts)) \n",
    "print(resultant_freq)"
   ]
  },
  {
   "cell_type": "raw",
   "id": "8d4bee2f",
   "metadata": {},
   "source": [
    "Q4 : Solve a system of linear equations Ax = b using NumPy, where A is a random coefficient Matrix, and b is a random vector."
   ]
  },
  {
   "cell_type": "code",
   "execution_count": 61,
   "id": "b4d9ae36",
   "metadata": {},
   "outputs": [
    {
     "name": "stdout",
     "output_type": "stream",
     "text": [
      "Coefficient Matrix A:\n",
      "[[0.57542795 0.33375649 0.84887775 0.45633653 0.97218802]\n",
      " [0.56723268 0.07296954 0.45099471 0.55402018 0.4114571 ]\n",
      " [0.01735305 0.26220376 0.6062187  0.50132686 0.65472093]\n",
      " [0.07161075 0.61739989 0.49820819 0.69698711 0.22484608]\n",
      " [0.27520825 0.86582439 0.5857965  0.85299653 0.94121136]]\n",
      "\n",
      "Vector b:\n",
      "[0.55701099 0.55375767 0.67072526 0.55706513 0.24017393]\n",
      "\n",
      "Solution vector x:\n",
      "[-0.36730496 -0.76605962  1.24829493  0.74843119 -0.38792947]\n"
     ]
    }
   ],
   "source": [
    "# Generate random coefficient matrix A and vector b\n",
    "A = np.random.rand(5,5)  \n",
    "b = np.random.rand(5)\n",
    "\n",
    "x = np.linalg.solve(A, b)\n",
    "\n",
    "print(\"Coefficient Matrix A:\")\n",
    "print(A)\n",
    "print(\"\\nVector b:\")\n",
    "print(b)\n",
    "print(\"\\nSolution vector x:\")\n",
    "print(x)"
   ]
  },
  {
   "cell_type": "raw",
   "id": "40bc155a",
   "metadata": {},
   "source": [
    "Q5 : In a mathematics class, students took a quiz, and their scores are recorded as follows:\n",
    "85,92,75,85,90,92,85,75,85,92,75,85,90,92,85,75,85,92\n",
    "Among these scores, what is the frequency of the score of 85?"
   ]
  },
  {
   "cell_type": "code",
   "execution_count": 77,
   "id": "a50a6e01",
   "metadata": {},
   "outputs": [
    {
     "name": "stdout",
     "output_type": "stream",
     "text": [
      "7\n"
     ]
    }
   ],
   "source": [
    "arr_Q5 = np.array([85, 92, 75, 85, 90, 92, 85, 75, 85, 92, 75, 85, 90, 92, 85, 75, 85, 92])\n",
    "\n",
    "freq_85 = np.sum(arr_Q5 == 85)\n",
    "\n",
    "print(freq_85)"
   ]
  }
 ],
 "metadata": {
  "kernelspec": {
   "display_name": "Python 3 (ipykernel)",
   "language": "python",
   "name": "python3"
  },
  "language_info": {
   "codemirror_mode": {
    "name": "ipython",
    "version": 3
   },
   "file_extension": ".py",
   "mimetype": "text/x-python",
   "name": "python",
   "nbconvert_exporter": "python",
   "pygments_lexer": "ipython3",
   "version": "3.11.5"
  }
 },
 "nbformat": 4,
 "nbformat_minor": 5
}
